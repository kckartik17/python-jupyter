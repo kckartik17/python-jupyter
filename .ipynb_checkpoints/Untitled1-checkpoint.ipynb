{
 "cells": [
  {
   "cell_type": "code",
   "execution_count": null,
   "metadata": {},
   "outputs": [],
   "source": [
    "\"\"\"\n",
    "Code illustration: 2.01\n",
    "Text Editor Code\n",
    "Step 1: Adding top-level\n",
    "Step 2: Add menubuttons\n",
    "\n",
    "@Tkinter GUI Application Development Hotshot\n",
    "\"\"\" \n",
    "from tkinter import *\n",
    "#\n",
    "#Step 1: Create a top-level window\n",
    "#\n",
    "root = Tk()\n",
    "\n",
    "\n",
    "#\n",
    "# Step 2  Adding Menu Bar \n",
    "#\n",
    "\n",
    "menubar = Menu(root) # frame that holds the menu buttons\n",
    "\n",
    "\n",
    "# Create File menu   \n",
    "filemenu = Menu(menubar, tearoff=0 )\n",
    "# all file menu choices will be placed here\n",
    "menubar.add_cascade(label=\"File\", menu=filemenu) \n",
    "\n",
    "\n",
    "# Create Edit menu\n",
    "editmenu = Menu(menubar, tearoff=0)\n",
    "menubar.add_cascade(label=\"Edit\", menu=editmenu)\n",
    "\n",
    "\n",
    "# Create View menu \n",
    "viewmenu = Menu(menubar, tearoff=0)\n",
    "menubar.add_cascade(label=\"View\", menu=viewmenu)\n",
    "\n",
    "# Create About menu\n",
    "aboutmenu = Menu(menubar, tearoff=0)\n",
    "menubar.add_cascade(label=\"About\", menu=aboutmenu)\n",
    "\n",
    "# Displaying menu on top of root.\n",
    "root.config(menu=menubar)\n",
    "\n",
    "root.mainloop() # main loop of top-level\n"
   ]
  }
 ],
 "metadata": {
  "kernelspec": {
   "display_name": "Python 3",
   "language": "python",
   "name": "python3"
  },
  "language_info": {
   "codemirror_mode": {
    "name": "ipython",
    "version": 3
   },
   "file_extension": ".py",
   "mimetype": "text/x-python",
   "name": "python",
   "nbconvert_exporter": "python",
   "pygments_lexer": "ipython3",
   "version": "3.6.5"
  }
 },
 "nbformat": 4,
 "nbformat_minor": 2
}
