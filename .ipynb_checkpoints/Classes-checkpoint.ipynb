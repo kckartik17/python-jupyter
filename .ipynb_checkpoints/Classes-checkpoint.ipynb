{
 "cells": [
  {
   "cell_type": "code",
   "execution_count": 4,
   "metadata": {},
   "outputs": [
    {
     "name": "stdout",
     "output_type": "stream",
     "text": [
      "Hello,how r u?\n"
     ]
    }
   ],
   "source": [
    "class Person:\n",
    "    def say_hi(self):\n",
    "        print('Hello,how r u?')\n",
    "\n",
    "p=Person()\n",
    "p.say_hi()"
   ]
  },
  {
   "cell_type": "code",
   "execution_count": 6,
   "metadata": {},
   "outputs": [
    {
     "name": "stdout",
     "output_type": "stream",
     "text": [
      "object created : 1\n",
      "object created : 2\n"
     ]
    }
   ],
   "source": [
    "class counter:\n",
    "    count_obj=0\n",
    "    \n",
    "   \n",
    "    \n",
    "    def counter_obj(self):\n",
    "        counter.count_obj=counter.count_obj+1\n",
    "        print(\"object created :\",counter.count_obj)\n",
    "\n",
    "obj1=counter()\n",
    "obj2=counter()\n",
    "\n",
    "obj1.counter_obj()\n",
    "\n",
    "obj2.counter_obj()"
   ]
  },
  {
   "cell_type": "code",
   "execution_count": 12,
   "metadata": {},
   "outputs": [
    {
     "ename": "TypeError",
     "evalue": "__init__() takes 2 positional arguments but 3 were given",
     "output_type": "error",
     "traceback": [
      "\u001b[1;31m---------------------------------------------------------------------------\u001b[0m",
      "\u001b[1;31mTypeError\u001b[0m                                 Traceback (most recent call last)",
      "\u001b[1;32m<ipython-input-12-0dc714f6097e>\u001b[0m in \u001b[0;36m<module>\u001b[1;34m()\u001b[0m\n\u001b[0;32m     15\u001b[0m         \u001b[1;32mreturn\u001b[0m \u001b[1;34m\"I am som!!!\"\u001b[0m\u001b[1;33m\u001b[0m\u001b[0m\n\u001b[0;32m     16\u001b[0m \u001b[1;33m\u001b[0m\u001b[0m\n\u001b[1;32m---> 17\u001b[1;33m \u001b[0mdepts\u001b[0m\u001b[1;33m=\u001b[0m\u001b[1;33m[\u001b[0m\u001b[0msoet\u001b[0m\u001b[1;33m(\u001b[0m\u001b[1;34m'kartik'\u001b[0m\u001b[1;33m,\u001b[0m\u001b[1;34m'CSE'\u001b[0m\u001b[1;33m)\u001b[0m\u001b[1;33m,\u001b[0m\u001b[0msoet\u001b[0m\u001b[1;33m(\u001b[0m\u001b[1;34m'jhfb'\u001b[0m\u001b[1;33m,\u001b[0m\u001b[1;34m'ECE'\u001b[0m\u001b[1;33m)\u001b[0m\u001b[1;33m,\u001b[0m\u001b[0msom\u001b[0m\u001b[1;33m(\u001b[0m\u001b[1;34m'sjfb'\u001b[0m\u001b[1;33m,\u001b[0m\u001b[1;34m'MBA'\u001b[0m\u001b[1;33m)\u001b[0m\u001b[1;33m,\u001b[0m\u001b[0msom\u001b[0m\u001b[1;33m(\u001b[0m\u001b[1;34m'dkf'\u001b[0m\u001b[1;33m,\u001b[0m\u001b[1;34m'BBA'\u001b[0m\u001b[1;33m)\u001b[0m\u001b[1;33m]\u001b[0m\u001b[1;33m\u001b[0m\u001b[0m\n\u001b[0m\u001b[0;32m     18\u001b[0m \u001b[1;33m\u001b[0m\u001b[0m\n\u001b[0;32m     19\u001b[0m \u001b[1;32mfor\u001b[0m \u001b[0mi\u001b[0m \u001b[1;32min\u001b[0m \u001b[0mdepts\u001b[0m\u001b[1;33m:\u001b[0m\u001b[1;33m\u001b[0m\u001b[0m\n",
      "\u001b[1;31mTypeError\u001b[0m: __init__() takes 2 positional arguments but 3 were given"
     ]
    }
   ],
   "source": [
    "class university:\n",
    "    def __init__(self,name):\n",
    "        self.name=name\n",
    "\n",
    "    def get_name(self):\n",
    "        return self.name\n",
    "\n",
    "\n",
    "class soet(university):\n",
    "    def intro(self,name):\n",
    "        return \"I am soet!!!\"\n",
    "\n",
    "class som(university):\n",
    "    def intro(self,name):\n",
    "        return \"I am som!!!\"\n",
    "\n",
    "depts=[soet('kartik','CSE'),soet('jhfb','ECE'),som('sjfb','MBA'),som('dkf','BBA')]\n",
    "\n",
    "for i in depts:\n",
    "    print(i.intro() + i.get_name())\n"
   ]
  },
  {
   "cell_type": "code",
   "execution_count": 16,
   "metadata": {},
   "outputs": [
    {
     "name": "stdout",
     "output_type": "stream",
     "text": [
      "The information is:\n",
      " AAA 34\n",
      "90000\n",
      "Python\n"
     ]
    },
    {
     "ename": "AttributeError",
     "evalue": "'Course' object has no attribute '__cname'",
     "output_type": "error",
     "traceback": [
      "\u001b[1;31m---------------------------------------------------------------------------\u001b[0m",
      "\u001b[1;31mAttributeError\u001b[0m                            Traceback (most recent call last)",
      "\u001b[1;32m<ipython-input-16-201a16bc9c41>\u001b[0m in \u001b[0;36m<module>\u001b[1;34m()\u001b[0m\n\u001b[0;32m     27\u001b[0m \u001b[0mobj1\u001b[0m\u001b[1;33m=\u001b[0m\u001b[0mCourse\u001b[0m\u001b[1;33m(\u001b[0m\u001b[1;34m'AAA'\u001b[0m\u001b[1;33m,\u001b[0m\u001b[1;36m34\u001b[0m\u001b[1;33m,\u001b[0m\u001b[1;36m90000\u001b[0m\u001b[1;33m,\u001b[0m\u001b[1;34m\"Python\"\u001b[0m\u001b[1;33m)\u001b[0m\u001b[1;33m\u001b[0m\u001b[0m\n\u001b[0;32m     28\u001b[0m \u001b[0mobj1\u001b[0m\u001b[1;33m.\u001b[0m\u001b[0minfo\u001b[0m\u001b[1;33m(\u001b[0m\u001b[1;33m)\u001b[0m\u001b[1;33m\u001b[0m\u001b[0m\n\u001b[1;32m---> 29\u001b[1;33m \u001b[0mprint\u001b[0m\u001b[1;33m(\u001b[0m\u001b[0mobj1\u001b[0m\u001b[1;33m.\u001b[0m\u001b[0m__cname\u001b[0m\u001b[1;33m)\u001b[0m\u001b[1;33m\u001b[0m\u001b[0m\n\u001b[0m",
      "\u001b[1;31mAttributeError\u001b[0m: 'Course' object has no attribute '__cname'"
     ]
    }
   ],
   "source": [
    "class University:\n",
    "    def __init__(self,name,age):\n",
    "        self.name=name\n",
    "        self.age=age\n",
    "    def info(self):\n",
    "        print(\"The information is:\\n\" , self.name, self.age)\n",
    "\n",
    "class Faculty(University):\n",
    "    def __init__(self,name,age,salary):\n",
    "        super().__init__(name,age)\n",
    "        self.salary=salary\n",
    "\n",
    "    def info(self):\n",
    "        super().info()\n",
    "        print(self.salary)\n",
    "\n",
    "\n",
    "class Course(Faculty):\n",
    "    def __init__(self,name,age,salary,cname):\n",
    "        super().__init__(name,age,salary)\n",
    "        self.__cname=cname\n",
    "\n",
    "    def info(self):\n",
    "        super().info()\n",
    "        print(self.__cname)\n",
    "        \n",
    "obj1=Course('AAA',34,90000,\"Python\")\n",
    "obj1.info()"
   ]
  }
 ],
 "metadata": {
  "kernelspec": {
   "display_name": "Python 3",
   "language": "python",
   "name": "python3"
  },
  "language_info": {
   "codemirror_mode": {
    "name": "ipython",
    "version": 3
   },
   "file_extension": ".py",
   "mimetype": "text/x-python",
   "name": "python",
   "nbconvert_exporter": "python",
   "pygments_lexer": "ipython3",
   "version": "3.6.5"
  }
 },
 "nbformat": 4,
 "nbformat_minor": 2
}
