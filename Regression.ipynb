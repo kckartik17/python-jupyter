{
 "cells": [
  {
   "cell_type": "code",
   "execution_count": 5,
   "metadata": {},
   "outputs": [],
   "source": [
    "import os # Importing library for operating system\n",
    "import numpy as np # Importing library to handle number arrays\n",
    "import pandas as pd # Importing library to handle data frames\n",
    "import matplotlib.pyplot as plt # Importing library for plotting\n",
    "\n",
    "## Reading Data\n",
    "\n",
    "data = pd.read_excel(\"F:\\Study\\Semester 5\\VA\\HeightWeight.xlsx\")\n",
    "data = data.dropna()"
   ]
  },
  {
   "cell_type": "code",
   "execution_count": 6,
   "metadata": {},
   "outputs": [
    {
     "ename": "NameError",
     "evalue": "name 'data_male_deletedOutliers' is not defined",
     "output_type": "error",
     "traceback": [
      "\u001b[1;31m---------------------------------------------------------------------------\u001b[0m",
      "\u001b[1;31mNameError\u001b[0m                                 Traceback (most recent call last)",
      "\u001b[1;32m<ipython-input-6-ec5c191a9443>\u001b[0m in \u001b[0;36m<module>\u001b[1;34m()\u001b[0m\n\u001b[0;32m      3\u001b[0m \u001b[1;33m\u001b[0m\u001b[0m\n\u001b[0;32m      4\u001b[0m \u001b[1;31m## Creating training dataset\u001b[0m\u001b[1;33m\u001b[0m\u001b[1;33m\u001b[0m\u001b[0m\n\u001b[1;32m----> 5\u001b[1;33m \u001b[0mdata_male_deletedOutliers_train_HEIGHT\u001b[0m \u001b[1;33m=\u001b[0m \u001b[0mdata_male_deletedOutliers\u001b[0m\u001b[1;33m[\u001b[0m\u001b[1;34m'HEIGHT'\u001b[0m\u001b[1;33m]\u001b[0m\u001b[1;33m[\u001b[0m\u001b[1;33m:\u001b[0m\u001b[1;33m-\u001b[0m\u001b[1;36m10\u001b[0m\u001b[1;33m]\u001b[0m\u001b[1;33m\u001b[0m\u001b[0m\n\u001b[0m\u001b[0;32m      6\u001b[0m \u001b[0mdata_male_deletedOutliers_train_WEIGHT\u001b[0m \u001b[1;33m=\u001b[0m \u001b[0mdata_male_deletedOutliers\u001b[0m\u001b[1;33m[\u001b[0m\u001b[1;34m'WEIGHT'\u001b[0m\u001b[1;33m]\u001b[0m\u001b[1;33m[\u001b[0m\u001b[1;33m:\u001b[0m\u001b[1;33m-\u001b[0m\u001b[1;36m10\u001b[0m\u001b[1;33m]\u001b[0m\u001b[1;33m\u001b[0m\u001b[0m\n\u001b[0;32m      7\u001b[0m \u001b[1;33m\u001b[0m\u001b[0m\n",
      "\u001b[1;31mNameError\u001b[0m: name 'data_male_deletedOutliers' is not defined"
     ]
    }
   ],
   "source": [
    "from sklearn import linear_model\n",
    "from sklearn.metrics import mean_squared_error\n",
    "\n",
    "## Creating training dataset\n",
    "data_male_deletedOutliers_train_HEIGHT = data_male_deletedOutliers['HEIGHT'][:-10]\n",
    "data_male_deletedOutliers_train_WEIGHT = data_male_deletedOutliers['WEIGHT'][:-10]\n",
    "\n",
    "## Creating test dataset\n",
    "data_male_deletedOutliers_test_HEIGHT = data_male_deletedOutliers['HEIGHT'][-10:]\n",
    "data_male_deletedOutliers_test_WEIGHT = data_male_deletedOutliers['WEIGHT'][-10:]\n",
    "\n",
    "print(data_male_deletedOutliers_train_HEIGHT)\n",
    "\n",
    "print(data_male_deletedOutliers_train_WEIGHT)\n"
   ]
  }
 ],
 "metadata": {
  "kernelspec": {
   "display_name": "Python 3",
   "language": "python",
   "name": "python3"
  },
  "language_info": {
   "codemirror_mode": {
    "name": "ipython",
    "version": 3
   },
   "file_extension": ".py",
   "mimetype": "text/x-python",
   "name": "python",
   "nbconvert_exporter": "python",
   "pygments_lexer": "ipython3",
   "version": "3.6.5"
  }
 },
 "nbformat": 4,
 "nbformat_minor": 2
}
