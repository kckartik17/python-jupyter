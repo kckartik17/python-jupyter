{
 "cells": [
  {
   "cell_type": "code",
   "execution_count": 4,
   "metadata": {},
   "outputs": [
    {
     "name": "stdout",
     "output_type": "stream",
     "text": [
      "Hello,how r u?\n"
     ]
    }
   ],
   "source": [
    "class Person:\n",
    "    def say_hi(self):\n",
    "        print('Hello,how r u?')\n",
    "\n",
    "p=Person()\n",
    "p.say_hi()"
   ]
  },
  {
   "cell_type": "code",
   "execution_count": 6,
   "metadata": {},
   "outputs": [
    {
     "name": "stdout",
     "output_type": "stream",
     "text": [
      "object created : 1\n",
      "object created : 2\n"
     ]
    }
   ],
   "source": [
    "class counter:\n",
    "    count_obj=0\n",
    "    \n",
    "   \n",
    "    \n",
    "    def counter_obj(self):\n",
    "        counter.count_obj=counter.count_obj+1\n",
    "        print(\"object created :\",counter.count_obj)\n",
    "\n",
    "obj1=counter()\n",
    "obj2=counter()\n",
    "\n",
    "obj1.counter_obj()\n",
    "\n",
    "obj2.counter_obj()"
   ]
  },
  {
   "cell_type": "code",
   "execution_count": 12,
   "metadata": {},
   "outputs": [
    {
     "ename": "TypeError",
     "evalue": "__init__() takes 2 positional arguments but 3 were given",
     "output_type": "error",
     "traceback": [
      "\u001b[1;31m---------------------------------------------------------------------------\u001b[0m",
      "\u001b[1;31mTypeError\u001b[0m                                 Traceback (most recent call last)",
      "\u001b[1;32m<ipython-input-12-0dc714f6097e>\u001b[0m in \u001b[0;36m<module>\u001b[1;34m()\u001b[0m\n\u001b[0;32m     15\u001b[0m         \u001b[1;32mreturn\u001b[0m \u001b[1;34m\"I am som!!!\"\u001b[0m\u001b[1;33m\u001b[0m\u001b[0m\n\u001b[0;32m     16\u001b[0m \u001b[1;33m\u001b[0m\u001b[0m\n\u001b[1;32m---> 17\u001b[1;33m \u001b[0mdepts\u001b[0m\u001b[1;33m=\u001b[0m\u001b[1;33m[\u001b[0m\u001b[0msoet\u001b[0m\u001b[1;33m(\u001b[0m\u001b[1;34m'kartik'\u001b[0m\u001b[1;33m,\u001b[0m\u001b[1;34m'CSE'\u001b[0m\u001b[1;33m)\u001b[0m\u001b[1;33m,\u001b[0m\u001b[0msoet\u001b[0m\u001b[1;33m(\u001b[0m\u001b[1;34m'jhfb'\u001b[0m\u001b[1;33m,\u001b[0m\u001b[1;34m'ECE'\u001b[0m\u001b[1;33m)\u001b[0m\u001b[1;33m,\u001b[0m\u001b[0msom\u001b[0m\u001b[1;33m(\u001b[0m\u001b[1;34m'sjfb'\u001b[0m\u001b[1;33m,\u001b[0m\u001b[1;34m'MBA'\u001b[0m\u001b[1;33m)\u001b[0m\u001b[1;33m,\u001b[0m\u001b[0msom\u001b[0m\u001b[1;33m(\u001b[0m\u001b[1;34m'dkf'\u001b[0m\u001b[1;33m,\u001b[0m\u001b[1;34m'BBA'\u001b[0m\u001b[1;33m)\u001b[0m\u001b[1;33m]\u001b[0m\u001b[1;33m\u001b[0m\u001b[0m\n\u001b[0m\u001b[0;32m     18\u001b[0m \u001b[1;33m\u001b[0m\u001b[0m\n\u001b[0;32m     19\u001b[0m \u001b[1;32mfor\u001b[0m \u001b[0mi\u001b[0m \u001b[1;32min\u001b[0m \u001b[0mdepts\u001b[0m\u001b[1;33m:\u001b[0m\u001b[1;33m\u001b[0m\u001b[0m\n",
      "\u001b[1;31mTypeError\u001b[0m: __init__() takes 2 positional arguments but 3 were given"
     ]
    }
   ],
   "source": [
    "class university:\n",
    "    def __init__(self,name):\n",
    "        self.name=name\n",
    "\n",
    "    def get_name(self):\n",
    "        return self.name\n",
    "\n",
    "\n",
    "class soet(university):\n",
    "    def intro(self,name):\n",
    "        return \"I am soet!!!\"\n",
    "\n",
    "class som(university):\n",
    "    def intro(self,name):\n",
    "        return \"I am som!!!\"\n",
    "\n",
    "depts=[soet('kartik','CSE'),soet('jhfb','ECE'),som('sjfb','MBA'),som('dkf','BBA')]\n",
    "\n",
    "for i in depts:\n",
    "    print(i.intro() + i.get_name())\n"
   ]
  },
  {
   "cell_type": "code",
   "execution_count": 17,
   "metadata": {},
   "outputs": [
    {
     "name": "stdout",
     "output_type": "stream",
     "text": [
      "The information is:\n",
      " AAA 34\n",
      "90000\n",
      "Python\n"
     ]
    }
   ],
   "source": [
    "class University:\n",
    "    def __init__(self,name,age):\n",
    "        self.name=name\n",
    "        self.age=age\n",
    "    def info(self):\n",
    "        print(\"The information is:\\n\" , self.name, self.age)\n",
    "\n",
    "class Faculty(University):\n",
    "    def __init__(self,name,age,salary):\n",
    "        super().__init__(name,age)\n",
    "        self.salary=salary\n",
    "\n",
    "    def info(self):\n",
    "        super().info()\n",
    "        print(self.salary)\n",
    "\n",
    "\n",
    "class Course(Faculty):\n",
    "    def __init__(self,name,age,salary,cname):\n",
    "        super().__init__(name,age,salary)\n",
    "        self.__cname=cname\n",
    "\n",
    "    def info(self):\n",
    "        super().info()\n",
    "        print(self.__cname)\n",
    "        \n",
    "obj1=Course('AAA',34,90000,\"Python\")\n",
    "obj1.info()"
   ]
  },
  {
   "cell_type": "code",
   "execution_count": 21,
   "metadata": {},
   "outputs": [
    {
     "name": "stdout",
     "output_type": "stream",
     "text": [
      "m of B called\n",
      "m of C called\n",
      "m of D called\n",
      "m of A called\n"
     ]
    },
    {
     "ename": "TypeError",
     "evalue": "m() takes 1 positional argument but 3 were given",
     "output_type": "error",
     "traceback": [
      "\u001b[1;31m---------------------------------------------------------------------------\u001b[0m",
      "\u001b[1;31mTypeError\u001b[0m                                 Traceback (most recent call last)",
      "\u001b[1;32m<ipython-input-21-516ecf6d9ddf>\u001b[0m in \u001b[0;36m<module>\u001b[1;34m()\u001b[0m\n\u001b[0;32m     19\u001b[0m \u001b[0mD\u001b[0m\u001b[1;33m.\u001b[0m\u001b[0mm\u001b[0m\u001b[1;33m(\u001b[0m\u001b[0mx\u001b[0m\u001b[1;33m)\u001b[0m\u001b[1;33m\u001b[0m\u001b[0m\n\u001b[0;32m     20\u001b[0m \u001b[0mA\u001b[0m\u001b[1;33m.\u001b[0m\u001b[0mm\u001b[0m\u001b[1;33m(\u001b[0m\u001b[0mx\u001b[0m\u001b[1;33m)\u001b[0m\u001b[1;33m\u001b[0m\u001b[0m\n\u001b[1;32m---> 21\u001b[1;33m \u001b[0mx\u001b[0m\u001b[1;33m.\u001b[0m\u001b[0mm\u001b[0m\u001b[1;33m(\u001b[0m\u001b[0mx\u001b[0m\u001b[1;33m,\u001b[0m\u001b[0mx\u001b[0m\u001b[1;33m)\u001b[0m\u001b[1;33m\u001b[0m\u001b[0m\n\u001b[0m",
      "\u001b[1;31mTypeError\u001b[0m: m() takes 1 positional argument but 3 were given"
     ]
    }
   ],
   "source": [
    "class A:\n",
    "    def m(self):\n",
    "        print(\"m of A called\")\n",
    "\n",
    "class B(A):\n",
    "    def m(self):\n",
    "        print(\"m of B called\")\n",
    "    \n",
    "class C(A):\n",
    "    def m(self):\n",
    "        print(\"m of C called\")\n",
    "\n",
    "class D(B,C):\n",
    "    def m(self):\n",
    "        print(\"m of D called\")\n",
    "x=D()\n",
    "B.m(x)\n",
    "C.m(x)\n",
    "D.m(x)\n",
    "A.m(x)"
   ]
  },
  {
   "cell_type": "code",
   "execution_count": null,
   "metadata": {},
   "outputs": [],
   "source": []
  },
  {
   "cell_type": "code",
   "execution_count": 23,
   "metadata": {},
   "outputs": [
    {
     "name": "stdout",
     "output_type": "stream",
     "text": [
      "['name', 'age']\n",
      "dict_keys(['name', 'age'])\n",
      "dict_values(['AAA', 20])\n",
      "dict_items([('name', 'AAA'), ('age', 20)])\n"
     ]
    }
   ],
   "source": [
    "d=dict([('name','AAA'),('age',20)])\n",
    "print(list(d))\n",
    "['name', 'age']\n",
    "print(d.keys()) \n",
    "\n",
    "print(d.values()) \n",
    "\n",
    "print(d.items()) \n"
   ]
  },
  {
   "cell_type": "code",
   "execution_count": 34,
   "metadata": {},
   "outputs": [
    {
     "name": "stdout",
     "output_type": "stream",
     "text": [
      "<class 'tuple'>\n",
      "<class 'tuple'>\n",
      "<class 'tuple'>\n",
      "<class 'tuple'>\n"
     ]
    }
   ],
   "source": [
    "dic={1:'a',2:'b',3:'c',4:'a'}\n",
    "\n",
    "res={}\n",
    "\n",
    "for key in dic.items():\n",
    "    print(type(key))\n"
   ]
  },
  {
   "cell_type": "code",
   "execution_count": 37,
   "metadata": {},
   "outputs": [
    {
     "name": "stdout",
     "output_type": "stream",
     "text": [
      "<class 'set'>\n"
     ]
    }
   ],
   "source": [
    "key1=['a','b','c','b']\n",
    "val1=[1,2,3,4]\n",
    "dic1=dict(zip(key1,val1))\n",
    "\n",
    "print(type(set(dic1.keys())))\n"
   ]
  },
  {
   "cell_type": "code",
   "execution_count": 38,
   "metadata": {},
   "outputs": [
    {
     "name": "stdout",
     "output_type": "stream",
     "text": [
      "a <class 'str'>\n",
      "('a',) <class 'tuple'>\n",
      "('a',) <class 'tuple'>\n",
      "()\n"
     ]
    }
   ],
   "source": [
    "t1 = ('a')\n",
    "print(t1, type(t1))\n",
    "t2 = ('a',)\n",
    "print(t2, type(t2))\n",
    "t3 = tuple('a')\n",
    "print(t3, type(t3))\n",
    "empty = ()\n",
    "print(empty)\n",
    "\n",
    "\n"
   ]
  },
  {
   "cell_type": "code",
   "execution_count": 42,
   "metadata": {},
   "outputs": [
    {
     "data": {
      "text/plain": [
       "2"
      ]
     },
     "execution_count": 42,
     "metadata": {},
     "output_type": "execute_result"
    }
   ],
   "source": [
    "\n",
    "tup=(1,\"a\",[1,2,3],(1,2,3))\n",
    "\n",
    "tup.index([1,2,3])\n",
    "\n",
    "\n",
    "\n"
   ]
  }
 ],
 "metadata": {
  "kernelspec": {
   "display_name": "Python 3",
   "language": "python",
   "name": "python3"
  },
  "language_info": {
   "codemirror_mode": {
    "name": "ipython",
    "version": 3
   },
   "file_extension": ".py",
   "mimetype": "text/x-python",
   "name": "python",
   "nbconvert_exporter": "python",
   "pygments_lexer": "ipython3",
   "version": "3.6.5"
  }
 },
 "nbformat": 4,
 "nbformat_minor": 2
}
