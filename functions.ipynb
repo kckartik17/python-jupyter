{
 "cells": [
  {
   "cell_type": "code",
   "execution_count": 3,
   "metadata": {},
   "outputs": [
    {
     "name": "stdout",
     "output_type": "stream",
     "text": [
      "(2, 3, 4, 5, 6)\n",
      "{'clouds': 50, 'stars': 100, 'kartik': 200, 'chauhan': 500}\n",
      "970\n"
     ]
    }
   ],
   "source": [
    "def total(initial=5,*num,**key):\n",
    "    print(num)\n",
    "    print(key)\n",
    "    count=initial\n",
    "    for n in num:\n",
    "        count+=n\n",
    "    for k in key:\n",
    "        count+=key[k]\n",
    "    return count\n",
    "\n",
    "print(total(100,2,3,4,5,6,clouds=50,stars=100,kartik=200,chauhan=500))"
   ]
  },
  {
   "cell_type": "code",
   "execution_count": 6,
   "metadata": {},
   "outputs": [
    {
     "name": "stdout",
     "output_type": "stream",
     "text": [
      "before call [4, 5, 6] 2194399304136\n",
      "first call [4, 5, 6] 2194399304136\n",
      "second call [4, 5, 6, 1] 2194399304136\n",
      "third call [2, 3] 2194398646024\n",
      "[2, 3]\n",
      "first call [4, 5, 6, 1] 2194399304136\n",
      "second call [4, 5, 6, 1, 1] 2194399304136\n",
      "third call [2, 3] 2194399304200\n",
      "after call [2, 3] 2194399304200\n"
     ]
    }
   ],
   "source": [
    "def prlist(list):\n",
    "    print(\"first call\",list,id(list))\n",
    "    list.append(1)\n",
    "    print(\"second call\",list,id(list))\n",
    "    list=[2,3]\n",
    "    print(\"third call\",list,id(list))\n",
    "    return list\n",
    "\n",
    "new_list=[4,5,6]\n",
    "print(\"before call\",new_list,id(new_list))\n",
    "\n",
    "print(prlist(new_list))\n",
    "new_list = prlist(new_list)\n",
    "print(\"after call\",new_list,id(new_list))\n"
   ]
  },
  {
   "cell_type": "code",
   "execution_count": 7,
   "metadata": {},
   "outputs": [
    {
     "name": "stdout",
     "output_type": "stream",
     "text": [
      "['r', 'a']\n",
      "[2, 3]\n",
      "[2, 3]\n",
      "[2, 3]\n"
     ]
    }
   ],
   "source": [
    "def intersect(seq1,seq2):\n",
    "    res=[]\n",
    "    for i in seq1:\n",
    "        if i in seq2:\n",
    "            res.append(i)\n",
    "    return res\n",
    "\n",
    "print(intersect(\"supriya\",\"raheja\"))\n",
    "\n",
    "print(intersect([1,2,3,4],[2,3,5,6]))\n",
    "\n",
    "print(intersect((1,2,3,4),(2,3,5,6)))\n",
    "\n",
    "print(intersect([1,2,3,4],(2,3,5,6)))   #mixed data types"
   ]
  },
  {
   "cell_type": "code",
   "execution_count": 25,
   "metadata": {},
   "outputs": [
    {
     "name": "stdout",
     "output_type": "stream",
     "text": [
      "Name of student is AAA\n",
      "Roll of student is 16CSU167\n",
      "Age of student is 21\n"
     ]
    }
   ],
   "source": [
    "def student_rec(name,roll,age):\n",
    "    print(\"Name of student is\", name)\n",
    "    print(\"Roll of student is\", roll)\n",
    "    print(\"Age of student is\",age)\n",
    "    \n",
    "student_rec(\"AAA\",\"16CSU167\",21)\n",
    "    \n",
    "# student_rec(\"BBB\",\"17CCC002\",22)\n",
    "# student_rec(\"AAA\",age=21)\n"
   ]
  },
  {
   "cell_type": "code",
   "execution_count": 27,
   "metadata": {},
   "outputs": [
    {
     "name": "stdout",
     "output_type": "stream",
     "text": [
      "('sss', 'aaa', 'bbb')\n"
     ]
    }
   ],
   "source": [
    "def prtup(*name):\n",
    "    print(name)\n",
    "prtup('sss','aaa','bbb')"
   ]
  },
  {
   "cell_type": "code",
   "execution_count": 31,
   "metadata": {},
   "outputs": [
    {
     "name": "stdout",
     "output_type": "stream",
     "text": [
      "(1, 2, 3, 4, 5, 9)\n"
     ]
    }
   ],
   "source": [
    "def additem(*item):\n",
    "    item=item+(9,)\n",
    "    print(item)\n",
    "additem(1,2,3,4,5)"
   ]
  },
  {
   "cell_type": "code",
   "execution_count": 38,
   "metadata": {},
   "outputs": [
    {
     "name": "stdout",
     "output_type": "stream",
     "text": [
      "(1, 2, 3, 4, 5, 6)\n",
      "(1, 2, 4, 5, 6)\n"
     ]
    }
   ],
   "source": [
    "def rmtup(*tup):\n",
    "    print(tup)\n",
    "    tup=tup[:2]+tup[3:]\n",
    "    return tup\n",
    "    \n",
    "print(rmtup(1,2,3,4,5,6))\n"
   ]
  },
  {
   "cell_type": "code",
   "execution_count": 42,
   "metadata": {},
   "outputs": [
    {
     "name": "stdout",
     "output_type": "stream",
     "text": [
      "[1, 2, 3, 4]\n"
     ]
    }
   ],
   "source": [
    "def unique(**dic):\n",
    "    print(list(set(dic.values())))\n",
    "    \n",
    "unique(a=1,b=2,c=3,d=1,e=4,f=2)\n"
   ]
  },
  {
   "cell_type": "code",
   "execution_count": 45,
   "metadata": {},
   "outputs": [
    {
     "name": "stdout",
     "output_type": "stream",
     "text": [
      "<class 'int'>\n",
      "<class 'str'>\n",
      "<class 'int'>\n",
      "arg1: 1\n",
      "arg2: two\n",
      "arg3: 3\n"
     ]
    }
   ],
   "source": [
    "def test_var_args_call(arg1, arg2, arg3):\n",
    "    print(type(arg1))\n",
    "    print(type(arg2))\n",
    "    print(type(arg3))\n",
    "    print( \"arg1:\", arg1)\n",
    "    print( \"arg2:\", arg2)\n",
    "    print(\"arg3:\", arg3)\n",
    "\n",
    "kwargs = {\"arg3\": 3, \"arg2\": \"two\"}\n",
    "test_var_args_call(1, **kwargs)\n"
   ]
  },
  {
   "cell_type": "code",
   "execution_count": 50,
   "metadata": {},
   "outputs": [
    {
     "name": "stdout",
     "output_type": "stream",
     "text": [
      "1\n",
      "2\n",
      "3\n"
     ]
    }
   ],
   "source": [
    "def func(arg,**d):\n",
    "    print(arg)\n",
    "    for i in d.values():\n",
    "        print(i)\n",
    "#         print(d[i])\n",
    "\n",
    "d={'a':2,'b':3}\n",
    "\n",
    "func(1,**d)"
   ]
  },
  {
   "cell_type": "code",
   "execution_count": 53,
   "metadata": {},
   "outputs": [
    {
     "name": "stdout",
     "output_type": "stream",
     "text": [
      "How many rows you want to show in pascal triangle?10\n",
      "1 \n",
      "\n",
      "1 1 \n",
      "\n",
      "1 2 1 \n",
      "\n",
      "1 3 3 1 \n",
      "\n",
      "1 4 6 4 1 \n",
      "\n",
      "1 5 10 10 5 1 \n",
      "\n",
      "1 6 15 20 15 6 1 \n",
      "\n",
      "1 7 21 35 35 21 7 1 \n",
      "\n",
      "1 8 28 56 70 56 28 8 1 \n",
      "\n",
      "1 9 36 84 126 126 84 36 9 1 \n",
      "\n"
     ]
    }
   ],
   "source": [
    "import math\n",
    "def pascal(n):\n",
    "    for i in range(0,n):\n",
    "        for k in range(0,i+1):\n",
    "            term=math.factorial(i)//(math.factorial(k)*math.factorial(i-k))\n",
    "            print(term,end=' ')\n",
    "        print(\"\\n\")\n",
    "\n",
    "n=int(input(\"How many rows you want to show in pascal triangle?\"))\n",
    "pascal(n)\n"
   ]
  }
 ],
 "metadata": {
  "kernelspec": {
   "display_name": "Python 3",
   "language": "python",
   "name": "python3"
  },
  "language_info": {
   "codemirror_mode": {
    "name": "ipython",
    "version": 3
   },
   "file_extension": ".py",
   "mimetype": "text/x-python",
   "name": "python",
   "nbconvert_exporter": "python",
   "pygments_lexer": "ipython3",
   "version": "3.6.5"
  }
 },
 "nbformat": 4,
 "nbformat_minor": 2
}
