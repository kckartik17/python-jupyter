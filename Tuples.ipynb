{
 "cells": [
  {
   "cell_type": "code",
   "execution_count": 4,
   "metadata": {},
   "outputs": [
    {
     "name": "stdout",
     "output_type": "stream",
     "text": [
      "<class 'tuple'>\n"
     ]
    }
   ],
   "source": [
    "empty = ()\n",
    "print(type(empty))"
   ]
  },
  {
   "cell_type": "code",
   "execution_count": 11,
   "metadata": {},
   "outputs": [
    {
     "name": "stdout",
     "output_type": "stream",
     "text": [
      "2910028867264\n",
      "2910028867264\n",
      "2910028867264\n",
      "(1, 2, 3)\n",
      "(1, 2, 3)\n",
      "(1, 2, 4)\n",
      "(4,)\n"
     ]
    }
   ],
   "source": [
    "tup = (1,2,3)\n",
    "tup1 = tup[:]\n",
    "tup2 = tup\n",
    "print(id(tup))\n",
    "print(id(tup1))\n",
    "print(id(tup2))\n",
    "print(tup1)\n",
    "print(tup2)\n",
    "l = list(tup)\n",
    "l[2] = 4\n",
    "tup = tuple(l)\n",
    "print(tup)\n",
    "tup = tup[2:3]\n",
    "print(tup)"
   ]
  },
  {
   "cell_type": "code",
   "execution_count": 17,
   "metadata": {},
   "outputs": [
    {
     "name": "stdout",
     "output_type": "stream",
     "text": [
      "(1, 2, 4, 4, 5, 5)\n"
     ]
    }
   ],
   "source": [
    "tup = (4,5,2,1,4,5)\n",
    "tup = tuple(sorted(tup))\n",
    "print(tup)"
   ]
  },
  {
   "cell_type": "code",
   "execution_count": 23,
   "metadata": {},
   "outputs": [
    {
     "name": "stdout",
     "output_type": "stream",
     "text": [
      "15\n"
     ]
    }
   ],
   "source": [
    "tup = (1,2,3,4,5)\n",
    "print(sum(tup))"
   ]
  },
  {
   "cell_type": "code",
   "execution_count": 29,
   "metadata": {},
   "outputs": [
    {
     "name": "stdout",
     "output_type": "stream",
     "text": [
      "1\n",
      "0\n",
      "4\n"
     ]
    }
   ],
   "source": [
    "tup = (1,2,3,4,[1,2,3,4])\n",
    "print(tup.count(1))\n",
    "print(tup.index(1))\n",
    "print(tup.index([1,2,3,4]))"
   ]
  },
  {
   "cell_type": "code",
   "execution_count": 31,
   "metadata": {},
   "outputs": [
    {
     "name": "stdout",
     "output_type": "stream",
     "text": [
      "<class 'tuple'>\n",
      "<class 'int'>\n",
      "1 2 3 4\n"
     ]
    }
   ],
   "source": [
    "t=1,2,3,4\n",
    "print(type(t))\n",
    "n1,n2,n3,n4=t\n",
    "print(type(n1))\n",
    "print(n1,n2,n3,n4)"
   ]
  },
  {
   "cell_type": "code",
   "execution_count": 33,
   "metadata": {},
   "outputs": [
    {
     "name": "stdout",
     "output_type": "stream",
     "text": [
      "(1, 2, [3, 5])\n"
     ]
    }
   ],
   "source": [
    "t = (1,2,[3,4])\n",
    "t[2][1] = 5\n",
    "print(t)"
   ]
  }
 ],
 "metadata": {
  "kernelspec": {
   "display_name": "Python 3",
   "language": "python",
   "name": "python3"
  }
 },
 "nbformat": 4,
 "nbformat_minor": 2
}
