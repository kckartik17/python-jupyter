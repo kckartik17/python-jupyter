{
 "cells": [
  {
   "cell_type": "code",
   "execution_count": 37,
   "metadata": {},
   "outputs": [
    {
     "name": "stdout",
     "output_type": "stream",
     "text": [
      "0\n",
      "Hello Kartik\n",
      "\n",
      "14\n",
      "Hello Kushal\n",
      "\n",
      "28\n",
      "Hello Diksha\n"
     ]
    }
   ],
   "source": [
    "f1=open(\"F:/test.txt\",\"r\")\n",
    "print(f1.tell())\n",
    "print(f1.readline())\n",
    "print(f1.tell())\n",
    "print(f1.readline())\n",
    "print(f1.tell())\n",
    "print(f1.readline())"
   ]
  },
  {
   "cell_type": "code",
   "execution_count": 9,
   "metadata": {},
   "outputs": [
    {
     "ename": "TypeError",
     "evalue": "write() argument must be str, not generator",
     "output_type": "error",
     "traceback": [
      "\u001b[1;31m---------------------------------------------------------------------------\u001b[0m",
      "\u001b[1;31mTypeError\u001b[0m                                 Traceback (most recent call last)",
      "\u001b[1;32m<ipython-input-9-d96ca12881b0>\u001b[0m in \u001b[0;36m<module>\u001b[1;34m()\u001b[0m\n\u001b[0;32m      5\u001b[0m \u001b[0mfile\u001b[0m\u001b[1;33m.\u001b[0m\u001b[0mclose\u001b[0m\u001b[1;33m(\u001b[0m\u001b[1;33m)\u001b[0m\u001b[1;33m\u001b[0m\u001b[0m\n\u001b[0;32m      6\u001b[0m \u001b[0mfile\u001b[0m \u001b[1;33m=\u001b[0m \u001b[0mopen\u001b[0m\u001b[1;33m(\u001b[0m\u001b[1;34m\"f:/test.txt\"\u001b[0m\u001b[1;33m,\u001b[0m\u001b[1;34m\"w\"\u001b[0m\u001b[1;33m)\u001b[0m\u001b[1;33m\u001b[0m\u001b[0m\n\u001b[1;32m----> 7\u001b[1;33m \u001b[0mfile\u001b[0m\u001b[1;33m.\u001b[0m\u001b[0mwrite\u001b[0m\u001b[1;33m(\u001b[0m\u001b[1;34m\"%s\\n\"\u001b[0m \u001b[1;33m%\u001b[0m\u001b[0ml\u001b[0m \u001b[1;32mfor\u001b[0m \u001b[0ml\u001b[0m \u001b[1;32min\u001b[0m \u001b[0mcontent\u001b[0m\u001b[1;33m)\u001b[0m\u001b[1;33m\u001b[0m\u001b[0m\n\u001b[0m",
      "\u001b[1;31mTypeError\u001b[0m: write() argument must be str, not generator"
     ]
    }
   ],
   "source": [
    "file = open(\"F:/test.txt\",\"r\")\n",
    "content = file.readlines()\n",
    "for i in range(len(content)):\n",
    "    content[i] = content[i].title()\n",
    "file.close()\n",
    "file = open(\"f:/test.txt\",\"w\")\n",
    "for i in range(len(content)):\n",
    "    \n",
    "file.writelines(\"%s\\n\" %l for l in content)"
   ]
  },
  {
   "cell_type": "code",
   "execution_count": 41,
   "metadata": {},
   "outputs": [
    {
     "name": "stdout",
     "output_type": "stream",
     "text": [
      "hello kartik\n",
      "hello kushal\n",
      "hello diksha\n"
     ]
    }
   ],
   "source": [
    "f1=open(\"F:/test.txt\",\"r\")\n",
    "# print(f1.read().upper())\n",
    "print(f1.read().lower())"
   ]
  },
  {
   "cell_type": "code",
   "execution_count": 44,
   "metadata": {},
   "outputs": [],
   "source": [
    "lines = ['Kartik', 'Kushal']\n",
    "with open('F:/test.txt', 'w') as f:\n",
    "    f.writelines(\"%s\\n\" % l for l in lines)"
   ]
  },
  {
   "cell_type": "code",
   "execution_count": 45,
   "metadata": {},
   "outputs": [
    {
     "name": "stdout",
     "output_type": "stream",
     "text": [
      "['Kartik\\n', 'Kushal\\n']\n"
     ]
    }
   ],
   "source": [
    "content = []\n",
    "with open('F:/test.txt') as f:\n",
    "    content = f.readlines()\n",
    "print(content)"
   ]
  },
  {
   "cell_type": "code",
   "execution_count": 48,
   "metadata": {},
   "outputs": [],
   "source": [
    "x,y=12,13\n",
    "S='hello'\n",
    "D={1:'a',2:'b'}\n",
    "L=[1,2,3]\n",
    "\n",
    "f=open('F:/test.txt','w')\n",
    "f.write(S + '\\n')\n",
    "\n",
    "f.write('%s%s\\n' %(x,y))\n",
    "\n",
    "f.write(str(L) + '$' + str(D) + '\\n')\n",
    "\n",
    "f.close()"
   ]
  },
  {
   "cell_type": "code",
   "execution_count": 5,
   "metadata": {},
   "outputs": [
    {
     "name": "stdout",
     "output_type": "stream",
     "text": [
      "hello\n",
      "\n"
     ]
    }
   ],
   "source": [
    "with open('F:/test.txt','r') as file:\n",
    "    print(file.readline())\n",
    "#     for i in file:\n",
    "#         print(i)"
   ]
  }
 ],
 "metadata": {
  "kernelspec": {
   "display_name": "Python 3",
   "language": "python",
   "name": "python3"
  },
  "language_info": {
   "codemirror_mode": {
    "name": "ipython",
    "version": 3
   },
   "file_extension": ".py",
   "mimetype": "text/x-python",
   "name": "python",
   "nbconvert_exporter": "python",
   "pygments_lexer": "ipython3",
   "version": "3.6.5"
  }
 },
 "nbformat": 4,
 "nbformat_minor": 2
}
