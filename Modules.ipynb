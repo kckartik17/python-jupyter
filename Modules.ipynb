{
 "cells": [
  {
   "cell_type": "code",
   "execution_count": 85,
   "metadata": {},
   "outputs": [
    {
     "name": "stdout",
     "output_type": "stream",
     "text": [
      "2018-09-14 22:57:38.963654\n",
      "22:57:38.964653\n"
     ]
    }
   ],
   "source": [
    "import datetime\n",
    "print(datetime.datetime.now())\n",
    "print(datetime.datetime.now().time())\n",
    "print(datetime)"
   ]
  },
  {
   "cell_type": "code",
   "execution_count": 11,
   "metadata": {},
   "outputs": [
    {
     "name": "stdout",
     "output_type": "stream",
     "text": [
      "[1, 2, [3, 4], 5, 6] [1, 2, [3, 4], 5, 6]\n",
      "[10, 2, [30, 4], 50, 6] [1, 2, [30, 4], 5, 6]\n",
      "2652897152712 2652897992136\n",
      "1573678176 1573678176\n",
      "2652897991944 2652897991944\n"
     ]
    }
   ],
   "source": [
    "import copy\n",
    "l = [1,2,[3,4],5,6]\n",
    "s = copy.copy(l)\n",
    "print(l,s)\n",
    "l[0] = 10\n",
    "l[3] = 50\n",
    "l[2][0] = 30\n",
    "print(l,s)\n",
    "print(id(l),id(s))\n",
    "print(id(l[1]),id(s[1]))\n",
    "print(id(l[2]),id(s[2]))"
   ]
  },
  {
   "cell_type": "code",
   "execution_count": 10,
   "metadata": {},
   "outputs": [
    {
     "name": "stdout",
     "output_type": "stream",
     "text": [
      "[1, 2, [3, 4], 5, 6] [1, 2, [3, 4], 5, 6]\n",
      "[10, 20, [3, 40], 5, 6] [1, 2, [3, 4], 5, 6]\n",
      "1573678752 1573678176\n",
      "2652897991496 2652897991816\n"
     ]
    }
   ],
   "source": [
    "import copy\n",
    "l = [1,2,[3,4],5,6]\n",
    "s = copy.deepcopy(l)\n",
    "print(l,s)\n",
    "l[0] = 10\n",
    "l[1] = 20\n",
    "l[2][1] = 40\n",
    "print(l,s)\n",
    "print(id(l[1]),id(s[1]))\n",
    "print(id(l[2]),id(s[2]))"
   ]
  }
 ],
 "metadata": {
  "kernelspec": {
   "display_name": "Python 3",
   "language": "python",
   "name": "python3"
  },
  "language_info": {
   "codemirror_mode": {
    "name": "ipython",
    "version": 3
   },
   "file_extension": ".py",
   "mimetype": "text/x-python",
   "name": "python",
   "nbconvert_exporter": "python",
   "pygments_lexer": "ipython3",
   "version": "3.6.5"
  }
 },
 "nbformat": 4,
 "nbformat_minor": 2
}
